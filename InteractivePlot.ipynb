{
 "cells": [
  {
   "cell_type": "code",
   "execution_count": 1,
   "metadata": {},
   "outputs": [
    {
     "name": "stderr",
     "output_type": "stream",
     "text": [
      "/home/shared/anaconda3/lib/python3.6/site-packages/h5py/__init__.py:36: FutureWarning: Conversion of the second argument of issubdtype from `float` to `np.floating` is deprecated. In future, it will be treated as `np.float64 == np.dtype(float).type`.\n",
      "  from ._conv import register_converters as _register_converters\n",
      "Using TensorFlow backend.\n"
     ]
    }
   ],
   "source": [
    "import keras\n",
    "from keras.models import Sequential\n",
    "from keras.layers import LSTM, Dense, Dropout\n",
    "from keras.optimizers import RMSprop, SGD\n",
    "import pandas as pd\n",
    "import numpy as np"
   ]
  },
  {
   "cell_type": "code",
   "execution_count": 2,
   "metadata": {},
   "outputs": [
    {
     "name": "stdout",
     "output_type": "stream",
     "text": [
      "ForRNN/FB.csv\n",
      "ForRNN/AAPL.csv\n",
      "ForRNN/GOOG.csv\n",
      "ForRNN/INTU.csv\n",
      "ForRNN/ALGN.csv\n",
      "ForRNN/AMZN.csv\n",
      "ForRNN/AAL.csv\n",
      "ForRNN/MSFT.csv\n",
      "ForRNN/AMAT.csv\n",
      "ForRNN/FOX.csv\n",
      "ForRNN/SBUX.csv\n",
      "ForRNN/WDC.csv\n",
      "ForRNN/NFLX.csv\n",
      "ForRNN/COST.csv\n",
      "ForRNN/ADBE.csv\n",
      "ForRNN/EBAY.csv\n",
      "ForRNN/WDAY.csv\n",
      "ForRNN/LRCX.csv\n",
      "ForRNN/BIDU.csv\n",
      "ForRNN/PYPL.csv\n"
     ]
    }
   ],
   "source": [
    "# Split file by ticker\n",
    "filename = 'goog_avg.csv'\n",
    "full = pd.read_csv(filename)\n",
    "full = full.drop(labels=['Unnamed: 0'], axis=1)\n",
    "top_20 = ['FB','AAPL','GOOG','INTU','ALGN','AMZN','AAL','MSFT','AMAT','FOX',\n",
    "          'SBUX','WDC','NFLX','COST','ADBE','EBAY','WDAY','LRCX','BIDU','PYPL']\n",
    "filelist = []\n",
    "for elem in top_20:\n",
    "    tmp = full.loc[full['Ticker']==elem]\n",
    "    savename = 'ForRNN/' + elem +'.csv'\n",
    "    filelist.append(savename)\n",
    "    tmp.to_csv(savename)\n",
    "    print(savename)"
   ]
  },
  {
   "cell_type": "code",
   "execution_count": 3,
   "metadata": {},
   "outputs": [],
   "source": [
    "# Select one ticker\n",
    "ticker = pd.read_csv('ForRNN/FB.csv')\n",
    "ticker = ticker.drop(labels=['Unnamed: 0','Ticker','Sector'], axis=1)"
   ]
  },
  {
   "cell_type": "code",
   "execution_count": 7,
   "metadata": {},
   "outputs": [],
   "source": [
    "# Train and store the best performing model\n",
    "import pandas as pd\n",
    "import csv\n",
    "import numpy as np\n",
    "import matplotlib.pyplot as plt\n",
    "%matplotlib inline  \n",
    "from sklearn import preprocessing\n",
    "full = pd.read_csv('goog_avg.csv')\n",
    "full = full.drop(labels=['Unnamed: 0'], axis=1)\n",
    "full['Ticker'] = pd.Categorical(full['Ticker'])\n",
    "full['Sector'] = pd.Categorical(full['Sector'])\n",
    "#for libor, just use yesterday's if no value\n",
    "full['Libor'].fillna(method='pad', inplace=True)\n",
    "#for news, just use yesterday's if no value\n",
    "for i in range(0, 40):\n",
    "    full[str(i)].fillna(method='pad', inplace=True)\n",
    "#drop the rows with no value change (first 30 days)\n",
    "full = full.dropna(subset=['Thirty-day Change (%)'])\n",
    "full = full.drop(labels=['High','Low', 'Open', 'Close', 'Adj Close'], axis=1)\n",
    "categorical = ['Ticker','Sector']\n",
    "file_one_hot_encoded = pd.get_dummies(full, columns=categorical, drop_first=True)\n",
    "in_set = file_one_hot_encoded\n",
    "in_set.Date = pd.to_datetime(in_set.Date)\n",
    "in_set['y-label'] = pd.Categorical(in_set['y-label'])\n",
    "in_train = in_set[(in_set['Date'] <'2017-01-01')]\n",
    "in_test = in_set[(in_set['Date'] >='2017-01-01')]\n",
    "y_train = in_train['y-label']\n",
    "y_test = in_test['y-label']\n",
    "X_train = in_train.drop(labels=['Date', 'y-label'], axis=1)\n",
    "X_test = in_test.drop(labels=['Date', 'y-label'], axis=1)\n",
    "X_train['Volume'] = np.log(X_train['Volume']+0.5)\n",
    "X_test['Volume'] = np.log(X_test['Volume']+0.5)\n",
    "# c = 0.5\n",
    "from sklearn import svm\n",
    "from sklearn.metrics import confusion_matrix\n",
    "from sklearn.metrics import classification_report\n",
    "svm_rbf = svm.SVC(C=0.5, kernel='rbf',max_iter=50000)\n",
    "svm_rbf.fit(X_train, y_train)\n",
    "y_hat_train = svm_rbf.predict(X_train)\n",
    "print(y_hat_train)\n",
    "y_hat_test = svm_rbf.predict(X_test)\n",
    "print(y_hat_test)"
   ]
  },
  {
   "cell_type": "code",
   "execution_count": 11,
   "metadata": {},
   "outputs": [],
   "source": [
    "# Load data for plot\n",
    "full_2 = pd.read_csv('goog_avg.csv')\n",
    "full_2 = full_2.drop(labels=['Unnamed: 0'], axis=1)\n",
    "full_2.Date = pd.to_datetime(full.Date)\n",
    "full_test = full_2[(full_2['Date'] >='2017-01-01')]\n",
    "full_test = full_test.reset_index(drop = True)\n",
    "y_hat_test = pd.DataFrame(y_hat_test).reset_index(drop = True)\n",
    "test = full_test.join(y_hat_test)\n",
    "dif = np.zeros(full_test.shape[0])\n",
    "dif[test['y-label'] != test[0]] = 1\n",
    "to_plot = full_test[['Date','Ticker','Open','High','Low','Close']]\n",
    "dif = pd.DataFrame(dif).reset_index(drop = True)\n",
    "to_plot = to_plot.join(dif)\n",
    "FB = to_plot.loc[to_plot['Ticker'] == 'FB']\n",
    "correct = FB.loc[FB[0] == 0]\n",
    "wrong = FB.loc[FB[0] == 1]\n",
    "wrong2 = wrong.rename(columns={\"Open\": \"new_Close\", \"Close\": \"new_Open\",\"High\": \"new_Low\", \"Low\": \"new_High\"})\n",
    "wrong2 = wrong2.rename(columns={\"new_Close\": \"Close\", \"new_Open\": \"Open\",\"new_Low\": \"Low\", \"new_High\": \"High\"})\n",
    "ready_to_plot = pd.concat([correct, wrong2], ignore_index = True)\n",
    "ready_to_plot.Date = pd.to_datetime(ready_to_plot.Date)\n",
    "ready_to_plot = ready_to_plot.sort_values(by=['Date'])"
   ]
  },
  {
   "cell_type": "code",
   "execution_count": 71,
   "metadata": {},
   "outputs": [],
   "source": [
    "ticker = ['FB_pred']*ready_to_plot.shape[0]\n",
    "ticker = pd.DataFrame(ticker).reset_index(drop = True)\n",
    "ready_to_plot = pd.DataFrame(ready_to_plot).reset_index(drop = True)\n",
    "ticker = ticker.rename(columns={0: \"new_ticker\"})\n",
    "new_plot = ready_to_plot.join(ticker)\n",
    "new_plot = new_plot.drop(labels=['Ticker'], axis=1)\n",
    "new_plot = new_plot.rename(columns={\"new_ticker\":\"Ticker\"})\n",
    "true_FB = to_plot.loc[to_plot['Ticker'] == 'FB']\n",
    "true_FB['High'] = true_FB['High']+20\n",
    "true_FB['Low'] = true_FB['Low']+20\n",
    "true_FB['Close'] = true_FB['Close']+20\n",
    "true_FB['Open'] = true_FB['Open']+20\n",
    "new_plot = pd.concat([new_plot, true_FB], ignore_index = True)"
   ]
  },
  {
   "cell_type": "code",
   "execution_count": 79,
   "metadata": {},
   "outputs": [
    {
     "name": "stdout",
     "output_type": "stream",
     "text": [
      "High five! You successfully sent some data to your account on plotly. View your plot in your browser at https://plot.ly/~ylxu/0 or inside your plot.ly account where it is named 'simple_candlestick'\n"
     ]
    },
    {
     "data": {
      "text/html": [
       "<iframe id=\"igraph\" scrolling=\"no\" style=\"border:none;\" seamless=\"seamless\" src=\"https://plot.ly/~ylxu/0.embed\" height=\"525px\" width=\"100%\"></iframe>"
      ],
      "text/plain": [
       "<plotly.tools.PlotlyDisplay object>"
      ]
     },
     "execution_count": 79,
     "metadata": {},
     "output_type": "execute_result"
    }
   ],
   "source": [
    "# import plotly\n",
    "import plotly\n",
    "plotly.tools.set_credentials_file(username='get a username', api_key='get an API')\n",
    "import plotly.plotly as py\n",
    "# plotly.tools.set_credentials_file(username='ylxu', api_key='HBPTupzkIc99pbjp0TS9')\n",
    "import plotly.graph_objs as go\n",
    "import pandas_datareader as web\n",
    "from datetime import datetime\n",
    "\n",
    "# df = web.DataReader(\"aapl\", 'morningstar').reset_index()\n",
    "\n",
    "trace = go.Candlestick(x=new_plot.Date,\n",
    "                       open=new_plot.Open,\n",
    "                       high=new_plot.High,\n",
    "                       low=new_plot.Low,\n",
    "                       close=new_plot.Close)\n",
    "data = [trace]\n",
    "py.iplot(data, filename='simple_candlestick')"
   ]
  }
 ],
 "metadata": {
  "kernelspec": {
   "display_name": "Python 3",
   "language": "python",
   "name": "python3"
  },
  "language_info": {
   "codemirror_mode": {
    "name": "ipython",
    "version": 3
   },
   "file_extension": ".py",
   "mimetype": "text/x-python",
   "name": "python",
   "nbconvert_exporter": "python",
   "pygments_lexer": "ipython3",
   "version": "3.6.4"
  }
 },
 "nbformat": 4,
 "nbformat_minor": 2
}
